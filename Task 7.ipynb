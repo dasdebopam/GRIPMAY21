{
 "cells": [
  {
   "cell_type": "markdown",
   "metadata": {},
   "source": [
    "# Debopam Das\n",
    "\n",
    "## Task - Stock Market and Sentement Analysis\n",
    "\n",
    "### Collecting necessary libraries"
   ]
  },
  {
   "cell_type": "code",
   "execution_count": 1,
   "metadata": {},
   "outputs": [],
   "source": [
    "import pandas_datareader as dr\n",
    "import matplotlib.pyplot as plt\n",
    "import seaborn as sns\n",
    "import pandas as pd\n",
    "import datetime\n",
    "import numpy as np\n",
    "import math\n",
    "from tensorflow.keras.models import Sequential\n",
    "from tensorflow.keras.layers import Dense,LSTM\n",
    "import nltk\n",
    "from nltk.sentiment.vader import SentimentIntensityAnalyzer"
   ]
  },
  {
   "cell_type": "markdown",
   "metadata": {},
   "source": [
    "### collecting the data"
   ]
  },
  {
   "cell_type": "code",
   "execution_count": 2,
   "metadata": {},
   "outputs": [
    {
     "data": {
      "text/html": [
       "<div>\n",
       "<style scoped>\n",
       "    .dataframe tbody tr th:only-of-type {\n",
       "        vertical-align: middle;\n",
       "    }\n",
       "\n",
       "    .dataframe tbody tr th {\n",
       "        vertical-align: top;\n",
       "    }\n",
       "\n",
       "    .dataframe thead th {\n",
       "        text-align: right;\n",
       "    }\n",
       "</style>\n",
       "<table border=\"1\" class=\"dataframe\">\n",
       "  <thead>\n",
       "    <tr style=\"text-align: right;\">\n",
       "      <th></th>\n",
       "      <th>High</th>\n",
       "      <th>Low</th>\n",
       "      <th>Open</th>\n",
       "      <th>Close</th>\n",
       "      <th>Volume</th>\n",
       "      <th>Adj Close</th>\n",
       "    </tr>\n",
       "    <tr>\n",
       "      <th>Date</th>\n",
       "      <th></th>\n",
       "      <th></th>\n",
       "      <th></th>\n",
       "      <th></th>\n",
       "      <th></th>\n",
       "      <th></th>\n",
       "    </tr>\n",
       "  </thead>\n",
       "  <tbody>\n",
       "    <tr>\n",
       "      <th>2016-05-16</th>\n",
       "      <td>311.783051</td>\n",
       "      <td>304.304077</td>\n",
       "      <td>307.781586</td>\n",
       "      <td>310.973236</td>\n",
       "      <td>4125806.0</td>\n",
       "      <td>278.857941</td>\n",
       "    </tr>\n",
       "    <tr>\n",
       "      <th>2016-05-17</th>\n",
       "      <td>315.498749</td>\n",
       "      <td>309.067780</td>\n",
       "      <td>313.259796</td>\n",
       "      <td>311.687805</td>\n",
       "      <td>5121836.0</td>\n",
       "      <td>279.498688</td>\n",
       "    </tr>\n",
       "    <tr>\n",
       "      <th>2016-05-18</th>\n",
       "      <td>314.593628</td>\n",
       "      <td>307.876831</td>\n",
       "      <td>310.306335</td>\n",
       "      <td>313.497986</td>\n",
       "      <td>3946031.0</td>\n",
       "      <td>281.121948</td>\n",
       "    </tr>\n",
       "    <tr>\n",
       "      <th>2016-05-19</th>\n",
       "      <td>321.453339</td>\n",
       "      <td>309.639404</td>\n",
       "      <td>311.068512</td>\n",
       "      <td>310.830322</td>\n",
       "      <td>6833711.0</td>\n",
       "      <td>278.729736</td>\n",
       "    </tr>\n",
       "    <tr>\n",
       "      <th>2016-05-20</th>\n",
       "      <td>311.640167</td>\n",
       "      <td>305.923737</td>\n",
       "      <td>310.782684</td>\n",
       "      <td>307.400482</td>\n",
       "      <td>4839839.0</td>\n",
       "      <td>275.654175</td>\n",
       "    </tr>\n",
       "    <tr>\n",
       "      <th>...</th>\n",
       "      <td>...</td>\n",
       "      <td>...</td>\n",
       "      <td>...</td>\n",
       "      <td>...</td>\n",
       "      <td>...</td>\n",
       "      <td>...</td>\n",
       "    </tr>\n",
       "    <tr>\n",
       "      <th>2021-05-07</th>\n",
       "      <td>1192.000000</td>\n",
       "      <td>1130.099976</td>\n",
       "      <td>1135.000000</td>\n",
       "      <td>1182.349976</td>\n",
       "      <td>54075433.0</td>\n",
       "      <td>1182.349976</td>\n",
       "    </tr>\n",
       "    <tr>\n",
       "      <th>2021-05-10</th>\n",
       "      <td>1229.000000</td>\n",
       "      <td>1200.000000</td>\n",
       "      <td>1210.000000</td>\n",
       "      <td>1216.349976</td>\n",
       "      <td>28080884.0</td>\n",
       "      <td>1216.349976</td>\n",
       "    </tr>\n",
       "    <tr>\n",
       "      <th>2021-05-11</th>\n",
       "      <td>1246.000000</td>\n",
       "      <td>1176.900024</td>\n",
       "      <td>1190.000000</td>\n",
       "      <td>1233.900024</td>\n",
       "      <td>41108381.0</td>\n",
       "      <td>1233.900024</td>\n",
       "    </tr>\n",
       "    <tr>\n",
       "      <th>2021-05-12</th>\n",
       "      <td>1246.849976</td>\n",
       "      <td>1163.250000</td>\n",
       "      <td>1231.949951</td>\n",
       "      <td>1179.150024</td>\n",
       "      <td>30889192.0</td>\n",
       "      <td>1179.150024</td>\n",
       "    </tr>\n",
       "    <tr>\n",
       "      <th>2021-05-14</th>\n",
       "      <td>1185.000000</td>\n",
       "      <td>1115.199951</td>\n",
       "      <td>1185.000000</td>\n",
       "      <td>1132.099976</td>\n",
       "      <td>37648032.0</td>\n",
       "      <td>1132.099976</td>\n",
       "    </tr>\n",
       "  </tbody>\n",
       "</table>\n",
       "<p>1232 rows × 6 columns</p>\n",
       "</div>"
      ],
      "text/plain": [
       "                   High          Low         Open        Close      Volume  \\\n",
       "Date                                                                         \n",
       "2016-05-16   311.783051   304.304077   307.781586   310.973236   4125806.0   \n",
       "2016-05-17   315.498749   309.067780   313.259796   311.687805   5121836.0   \n",
       "2016-05-18   314.593628   307.876831   310.306335   313.497986   3946031.0   \n",
       "2016-05-19   321.453339   309.639404   311.068512   310.830322   6833711.0   \n",
       "2016-05-20   311.640167   305.923737   310.782684   307.400482   4839839.0   \n",
       "...                 ...          ...          ...          ...         ...   \n",
       "2021-05-07  1192.000000  1130.099976  1135.000000  1182.349976  54075433.0   \n",
       "2021-05-10  1229.000000  1200.000000  1210.000000  1216.349976  28080884.0   \n",
       "2021-05-11  1246.000000  1176.900024  1190.000000  1233.900024  41108381.0   \n",
       "2021-05-12  1246.849976  1163.250000  1231.949951  1179.150024  30889192.0   \n",
       "2021-05-14  1185.000000  1115.199951  1185.000000  1132.099976  37648032.0   \n",
       "\n",
       "              Adj Close  \n",
       "Date                     \n",
       "2016-05-16   278.857941  \n",
       "2016-05-17   279.498688  \n",
       "2016-05-18   281.121948  \n",
       "2016-05-19   278.729736  \n",
       "2016-05-20   275.654175  \n",
       "...                 ...  \n",
       "2021-05-07  1182.349976  \n",
       "2021-05-10  1216.349976  \n",
       "2021-05-11  1233.900024  \n",
       "2021-05-12  1179.150024  \n",
       "2021-05-14  1132.099976  \n",
       "\n",
       "[1232 rows x 6 columns]"
      ]
     },
     "execution_count": 2,
     "metadata": {},
     "output_type": "execute_result"
    }
   ],
   "source": [
    "df=dr.data.get_data_yahoo('TATASTEEL.NS',start='2016-05-15',end='2021-05-15')\n",
    "df"
   ]
  },
  {
   "cell_type": "markdown",
   "metadata": {},
   "source": [
    "### plotting the data"
   ]
  },
  {
   "cell_type": "code",
   "execution_count": 3,
   "metadata": {},
   "outputs": [
    {
     "data": {
      "image/png": "[encoded data removed]",
      "text/plain": [
       "<Figure size 1080x360 with 1 Axes>"
      ]
     },
     "metadata": {
      "needs_background": "light"
     },
     "output_type": "display_data"
    }
   ],
   "source": [
    "plt.figure(figsize=(15,5))\n",
    "plt.plot(df['Close'])\n",
    "plt.title('close price history')\n",
    "plt.xlabel('date')\n",
    "plt.ylabel('close price')\n",
    "plt.show()"
   ]
  },
  {
   "cell_type": "markdown",
   "metadata": {},
   "source": [
    "### preprocessing the data"
   ]
  },
  {
   "cell_type": "code",
   "execution_count": 4,
   "metadata": {},
   "outputs": [],
   "source": [
    "data=df.filter(['Close'])\n",
    "x=len(data)\n",
    "df_1=data.values"
   ]
  },
  {
   "cell_type": "code",
   "execution_count": 5,
   "metadata": {},
   "outputs": [
    {
     "data": {
      "text/plain": [
       "array([[0.05838212],\n",
       "       [0.05911116],\n",
       "       [0.060958  ],\n",
       "       ...,\n",
       "       [1.        ],\n",
       "       [0.9441412 ],\n",
       "       [0.8961383 ]])"
      ]
     },
     "execution_count": 5,
     "metadata": {},
     "output_type": "execute_result"
    }
   ],
   "source": [
    "from sklearn.preprocessing import MinMaxScaler\n",
    "scaler=MinMaxScaler(feature_range=(0,1))\n",
    "model=scaler.fit(data)\n",
    "scaled=model.transform(data)\n",
    "scaled"
   ]
  },
  {
   "cell_type": "code",
   "execution_count": 6,
   "metadata": {},
   "outputs": [
    {
     "data": {
      "text/plain": [
       "863"
      ]
     },
     "execution_count": 6,
     "metadata": {},
     "output_type": "execute_result"
    }
   ],
   "source": [
    "train_size=math.ceil(x*0.7)\n",
    "train_size"
   ]
  },
  {
   "cell_type": "code",
   "execution_count": 7,
   "metadata": {
    "scrolled": false
   },
   "outputs": [
    {
     "name": "stdout",
     "output_type": "stream",
     "text": [
      "xtrain [array([0.05838212, 0.05911116, 0.060958  , 0.05823631, 0.05473701,\n",
      "       0.04589151, 0.04992544, 0.05663245, 0.05721569, 0.06149263,\n",
      "       0.05444539, 0.06610976, 0.06397131, 0.07223358, 0.0701923 ,\n",
      "       0.06951189, 0.07412902, 0.07305979, 0.07359442, 0.06615837,\n",
      "       0.0551744 , 0.05697267, 0.06212443, 0.06236745, 0.0574587 ,\n",
      "       0.06795663, 0.06581818, 0.06426292, 0.06572097, 0.04501669,\n",
      "       0.04292683, 0.04389886, 0.04594011, 0.05405657, 0.06003458,\n",
      "       0.06309649, 0.06542936, 0.04992544, 0.05055727, 0.05896535,\n",
      "       0.07383744, 0.0888553 , 0.09036195, 0.10358157, 0.09653437,\n",
      "       0.10100569, 0.09925606, 0.09327805, 0.09633996, 0.09459029,\n",
      "       0.09862422, 0.09400709, 0.08117626, 0.08623081, 0.09575673,\n",
      "       0.09284063, 0.08914691, 0.10445642, 0.11213546, 0.11004561])]\n",
      "ytrain [0.1059630751480592]\n",
      "xtrain [array([0.05838212, 0.05911116, 0.060958  , 0.05823631, 0.05473701,\n",
      "       0.04589151, 0.04992544, 0.05663245, 0.05721569, 0.06149263,\n",
      "       0.05444539, 0.06610976, 0.06397131, 0.07223358, 0.0701923 ,\n",
      "       0.06951189, 0.07412902, 0.07305979, 0.07359442, 0.06615837,\n",
      "       0.0551744 , 0.05697267, 0.06212443, 0.06236745, 0.0574587 ,\n",
      "       0.06795663, 0.06581818, 0.06426292, 0.06572097, 0.04501669,\n",
      "       0.04292683, 0.04389886, 0.04594011, 0.05405657, 0.06003458,\n",
      "       0.06309649, 0.06542936, 0.04992544, 0.05055727, 0.05896535,\n",
      "       0.07383744, 0.0888553 , 0.09036195, 0.10358157, 0.09653437,\n",
      "       0.10100569, 0.09925606, 0.09327805, 0.09633996, 0.09459029,\n",
      "       0.09862422, 0.09400709, 0.08117626, 0.08623081, 0.09575673,\n",
      "       0.09284063, 0.08914691, 0.10445642, 0.11213546, 0.11004561]), array([0.05911116, 0.060958  , 0.05823631, 0.05473701, 0.04589151,\n",
      "       0.04992544, 0.05663245, 0.05721569, 0.06149263, 0.05444539,\n",
      "       0.06610976, 0.06397131, 0.07223358, 0.0701923 , 0.06951189,\n",
      "       0.07412902, 0.07305979, 0.07359442, 0.06615837, 0.0551744 ,\n",
      "       0.05697267, 0.06212443, 0.06236745, 0.0574587 , 0.06795663,\n",
      "       0.06581818, 0.06426292, 0.06572097, 0.04501669, 0.04292683,\n",
      "       0.04389886, 0.04594011, 0.05405657, 0.06003458, 0.06309649,\n",
      "       0.06542936, 0.04992544, 0.05055727, 0.05896535, 0.07383744,\n",
      "       0.0888553 , 0.09036195, 0.10358157, 0.09653437, 0.10100569,\n",
      "       0.09925606, 0.09327805, 0.09633996, 0.09459029, 0.09862422,\n",
      "       0.09400709, 0.08117626, 0.08623081, 0.09575673, 0.09284063,\n",
      "       0.08914691, 0.10445642, 0.11213546, 0.11004561, 0.10596308])]\n",
      "ytrain [0.1059630751480592, 0.10105429566309465]\n"
     ]
    }
   ],
   "source": [
    "train_data=scaled[0:train_size]\n",
    "x_train=[]\n",
    "y_train=[]\n",
    "for i in range(60,len(train_data)):\n",
    "    x_train.append(train_data[i-60:i,0])\n",
    "    y_train.append(train_data[i,0])\n",
    "\n",
    "    if i<=61:\n",
    "        print('xtrain',x_train)\n",
    "        print('ytrain',y_train)"
   ]
  },
  {
   "cell_type": "code",
   "execution_count": 8,
   "metadata": {},
   "outputs": [
    {
     "data": {
      "text/plain": [
       "(803, 60, 1)"
      ]
     },
     "execution_count": 8,
     "metadata": {},
     "output_type": "execute_result"
    }
   ],
   "source": [
    "x_train,y_train=np.array(x_train),np.array(y_train)\n",
    "x_train=np.reshape(x_train,(x_train.shape[0],x_train.shape[1],1))\n",
    "x_train.shape"
   ]
  },
  {
   "cell_type": "markdown",
   "metadata": {},
   "source": [
    "### Model building"
   ]
  },
  {
   "cell_type": "code",
   "execution_count": 9,
   "metadata": {},
   "outputs": [
    {
     "name": "stdout",
     "output_type": "stream",
     "text": [
      "WARNING:tensorflow:From C:\\Users\\DEBOPAM DAS\\Anaconda3\\lib\\site-packages\\tensorflow_core\\python\\ops\\resource_variable_ops.py:1630: calling BaseResourceVariable.__init__ (from tensorflow.python.ops.resource_variable_ops) with constraint is deprecated and will be removed in a future version.\n",
      "Instructions for updating:\n",
      "If using Keras pass *_constraint arguments to layers.\n"
     ]
    }
   ],
   "source": [
    "model=Sequential()\n",
    "model.add(LSTM(50,return_sequences=True,input_shape=(x_train.shape[1],1)))\n",
    "model.add(LSTM(50,return_sequences=False))\n",
    "model.add(Dense(25))\n",
    "model.add(Dense(1))"
   ]
  },
  {
   "cell_type": "code",
   "execution_count": 10,
   "metadata": {},
   "outputs": [],
   "source": [
    "model.compile(optimizer='adam',loss='mean_squared_error')"
   ]
  },
  {
   "cell_type": "code",
   "execution_count": 11,
   "metadata": {},
   "outputs": [
    {
     "name": "stdout",
     "output_type": "stream",
     "text": [
      "WARNING:tensorflow:From C:\\Users\\DEBOPAM DAS\\Anaconda3\\lib\\site-packages\\tensorflow_core\\python\\ops\\math_grad.py:1424: where (from tensorflow.python.ops.array_ops) is deprecated and will be removed in a future version.\n",
      "Instructions for updating:\n",
      "Use tf.where in 2.0, which has the same broadcast rule as np.where\n",
      "Train on 803 samples\n",
      "803/803 [==============================] - 55s 68ms/sample - loss: 8.4306e-04\n"
     ]
    },
    {
     "data": {
      "text/plain": [
       "<tensorflow.python.keras.callbacks.History at 0x21bada936d8>"
      ]
     },
     "execution_count": 11,
     "metadata": {},
     "output_type": "execute_result"
    }
   ],
   "source": [
    "model.fit(x_train,y_train,batch_size=1,epochs=1)"
   ]
  },
  {
   "cell_type": "markdown",
   "metadata": {},
   "source": [
    "### prediction"
   ]
  },
  {
   "cell_type": "code",
   "execution_count": 12,
   "metadata": {},
   "outputs": [],
   "source": [
    "test_data=scaled[train_size-60:,:]\n",
    "x_test=[]\n",
    "y_test=df_1[train_size:,:]\n",
    "for i in range(60,len(test_data)):\n",
    "    x_test.append(test_data[i-60:i,0])"
   ]
  },
  {
   "cell_type": "code",
   "execution_count": 13,
   "metadata": {},
   "outputs": [],
   "source": [
    "x_test=np.array(x_test)\n",
    "x_test=np.reshape(x_test,(x_test.shape[0],x_test.shape[1],1))"
   ]
  },
  {
   "cell_type": "code",
   "execution_count": 14,
   "metadata": {},
   "outputs": [],
   "source": [
    "prediction=model.predict(x_test)\n",
    "prediction=scaler.inverse_transform(prediction)"
   ]
  },
  {
   "cell_type": "code",
   "execution_count": 15,
   "metadata": {},
   "outputs": [
    {
     "name": "stderr",
     "output_type": "stream",
     "text": [
      "C:\\Users\\DEBOPAM DAS\\Anaconda3\\lib\\site-packages\\ipykernel_launcher.py:3: SettingWithCopyWarning: \n",
      "A value is trying to be set on a copy of a slice from a DataFrame.\n",
      "Try using .loc[row_indexer,col_indexer] = value instead\n",
      "\n",
      "See the caveats in the documentation: https://pandas.pydata.org/pandas-docs/stable/user_guide/indexing.html#returning-a-view-versus-a-copy\n",
      "  This is separate from the ipykernel package so we can avoid doing imports until\n"
     ]
    },
    {
     "data": {
      "image/png": "[encoded data removed]",
      "text/plain": [
       "<Figure size 1080x360 with 1 Axes>"
      ]
     },
     "metadata": {
      "needs_background": "light"
     },
     "output_type": "display_data"
    }
   ],
   "source": [
    "train=data[:train_size]\n",
    "valid=data[train_size:]\n",
    "valid['predictions']=prediction\n",
    "plt.figure(figsize=(15,5))\n",
    "plt.title('Model')\n",
    "plt.xlabel('Date')\n",
    "plt.ylabel('close price')\n",
    "plt.plot(train['Close'])\n",
    "plt.plot(valid[['Close','predictions']])\n",
    "plt.legend(['Train','Valid','predictions'],loc='lower right')\n",
    "plt.show()"
   ]
  },
  {
   "cell_type": "markdown",
   "metadata": {},
   "source": [
    "## Sentimentel Analysis"
   ]
  },
  {
   "cell_type": "code",
   "execution_count": 16,
   "metadata": {},
   "outputs": [],
   "source": [
    "data=pd.read_csv(r\"C:\\Users\\DEBOPAM DAS\\OneDrive\\Desktop\\New folder\\GRIP_may_21\\india-news-headlines.csv\")"
   ]
  },
  {
   "cell_type": "code",
   "execution_count": 17,
   "metadata": {},
   "outputs": [
    {
     "data": {
      "text/html": [
       "<div>\n",
       "<style scoped>\n",
       "    .dataframe tbody tr th:only-of-type {\n",
       "        vertical-align: middle;\n",
       "    }\n",
       "\n",
       "    .dataframe tbody tr th {\n",
       "        vertical-align: top;\n",
       "    }\n",
       "\n",
       "    .dataframe thead th {\n",
       "        text-align: right;\n",
       "    }\n",
       "</style>\n",
       "<table border=\"1\" class=\"dataframe\">\n",
       "  <thead>\n",
       "    <tr style=\"text-align: right;\">\n",
       "      <th></th>\n",
       "      <th>publish_date</th>\n",
       "      <th>headline_category</th>\n",
       "      <th>headline_text</th>\n",
       "    </tr>\n",
       "  </thead>\n",
       "  <tbody>\n",
       "    <tr>\n",
       "      <th>0</th>\n",
       "      <td>20010102</td>\n",
       "      <td>unknown</td>\n",
       "      <td>Status quo will not be disturbed at Ayodhya; s...</td>\n",
       "    </tr>\n",
       "    <tr>\n",
       "      <th>1</th>\n",
       "      <td>20010102</td>\n",
       "      <td>unknown</td>\n",
       "      <td>Fissures in Hurriyat over Pak visit</td>\n",
       "    </tr>\n",
       "    <tr>\n",
       "      <th>2</th>\n",
       "      <td>20010102</td>\n",
       "      <td>unknown</td>\n",
       "      <td>America's unwanted heading for India?</td>\n",
       "    </tr>\n",
       "    <tr>\n",
       "      <th>3</th>\n",
       "      <td>20010102</td>\n",
       "      <td>unknown</td>\n",
       "      <td>For bigwigs; it is destination Goa</td>\n",
       "    </tr>\n",
       "    <tr>\n",
       "      <th>4</th>\n",
       "      <td>20010102</td>\n",
       "      <td>unknown</td>\n",
       "      <td>Extra buses to clear tourist traffic</td>\n",
       "    </tr>\n",
       "    <tr>\n",
       "      <th>...</th>\n",
       "      <td>...</td>\n",
       "      <td>...</td>\n",
       "      <td>...</td>\n",
       "    </tr>\n",
       "    <tr>\n",
       "      <th>3424062</th>\n",
       "      <td>20201231</td>\n",
       "      <td>city.jodhpur</td>\n",
       "      <td>Covid-19: Despite dip in cases; Rajasthan amon...</td>\n",
       "    </tr>\n",
       "    <tr>\n",
       "      <th>3424063</th>\n",
       "      <td>20201231</td>\n",
       "      <td>city.udaipur</td>\n",
       "      <td>Covid-19: Despite dip in cases; Rajasthan amon...</td>\n",
       "    </tr>\n",
       "    <tr>\n",
       "      <th>3424064</th>\n",
       "      <td>20201231</td>\n",
       "      <td>city.ajmer</td>\n",
       "      <td>Covid-19: Despite dip in cases; Rajasthan amon...</td>\n",
       "    </tr>\n",
       "    <tr>\n",
       "      <th>3424065</th>\n",
       "      <td>20201231</td>\n",
       "      <td>removed</td>\n",
       "      <td>Govt extends deadline for use of FASTag till F...</td>\n",
       "    </tr>\n",
       "    <tr>\n",
       "      <th>3424066</th>\n",
       "      <td>20201231</td>\n",
       "      <td>entertainment.bengali.movies.news</td>\n",
       "      <td>Celebs plan to party safely and responsibly on...</td>\n",
       "    </tr>\n",
       "  </tbody>\n",
       "</table>\n",
       "<p>3424067 rows × 3 columns</p>\n",
       "</div>"
      ],
      "text/plain": [
       "         publish_date                  headline_category  \\\n",
       "0            20010102                            unknown   \n",
       "1            20010102                            unknown   \n",
       "2            20010102                            unknown   \n",
       "3            20010102                            unknown   \n",
       "4            20010102                            unknown   \n",
       "...               ...                                ...   \n",
       "3424062      20201231                       city.jodhpur   \n",
       "3424063      20201231                       city.udaipur   \n",
       "3424064      20201231                         city.ajmer   \n",
       "3424065      20201231                            removed   \n",
       "3424066      20201231  entertainment.bengali.movies.news   \n",
       "\n",
       "                                             headline_text  \n",
       "0        Status quo will not be disturbed at Ayodhya; s...  \n",
       "1                      Fissures in Hurriyat over Pak visit  \n",
       "2                    America's unwanted heading for India?  \n",
       "3                       For bigwigs; it is destination Goa  \n",
       "4                     Extra buses to clear tourist traffic  \n",
       "...                                                    ...  \n",
       "3424062  Covid-19: Despite dip in cases; Rajasthan amon...  \n",
       "3424063  Covid-19: Despite dip in cases; Rajasthan amon...  \n",
       "3424064  Covid-19: Despite dip in cases; Rajasthan amon...  \n",
       "3424065  Govt extends deadline for use of FASTag till F...  \n",
       "3424066  Celebs plan to party safely and responsibly on...  \n",
       "\n",
       "[3424067 rows x 3 columns]"
      ]
     },
     "execution_count": 17,
     "metadata": {},
     "output_type": "execute_result"
    }
   ],
   "source": [
    "data"
   ]
  },
  {
   "cell_type": "code",
   "execution_count": 18,
   "metadata": {},
   "outputs": [],
   "source": [
    "dt=data[['headline_text']].copy()\n",
    "dt=dt.iloc[:1500]"
   ]
  },
  {
   "cell_type": "code",
   "execution_count": 19,
   "metadata": {},
   "outputs": [
    {
     "name": "stderr",
     "output_type": "stream",
     "text": [
      "[nltk_data] Downloading package vader_lexicon to C:\\Users\\DEBOPAM\n",
      "[nltk_data]     DAS\\AppData\\Roaming\\nltk_data...\n",
      "[nltk_data]   Package vader_lexicon is already up-to-date!\n",
      "[nltk_data] Downloading package stopwords to C:\\Users\\DEBOPAM\n",
      "[nltk_data]     DAS\\AppData\\Roaming\\nltk_data...\n",
      "[nltk_data]   Package stopwords is already up-to-date!\n"
     ]
    },
    {
     "data": {
      "text/plain": [
       "True"
      ]
     },
     "execution_count": 19,
     "metadata": {},
     "output_type": "execute_result"
    }
   ],
   "source": [
    "nltk.download('vader_lexicon')\n",
    "nltk.download('stopwords')"
   ]
  },
  {
   "cell_type": "code",
   "execution_count": 20,
   "metadata": {},
   "outputs": [
    {
     "data": {
      "text/html": [
       "<div>\n",
       "<style scoped>\n",
       "    .dataframe tbody tr th:only-of-type {\n",
       "        vertical-align: middle;\n",
       "    }\n",
       "\n",
       "    .dataframe tbody tr th {\n",
       "        vertical-align: top;\n",
       "    }\n",
       "\n",
       "    .dataframe thead th {\n",
       "        text-align: right;\n",
       "    }\n",
       "</style>\n",
       "<table border=\"1\" class=\"dataframe\">\n",
       "  <thead>\n",
       "    <tr style=\"text-align: right;\">\n",
       "      <th></th>\n",
       "      <th>neg</th>\n",
       "      <th>neu</th>\n",
       "      <th>pos</th>\n",
       "      <th>compound</th>\n",
       "      <th>headline</th>\n",
       "    </tr>\n",
       "  </thead>\n",
       "  <tbody>\n",
       "    <tr>\n",
       "      <th>0</th>\n",
       "      <td>0.000</td>\n",
       "      <td>0.805</td>\n",
       "      <td>0.195</td>\n",
       "      <td>0.2924</td>\n",
       "      <td>Status quo will not be disturbed at Ayodhya; s...</td>\n",
       "    </tr>\n",
       "    <tr>\n",
       "      <th>1</th>\n",
       "      <td>0.000</td>\n",
       "      <td>1.000</td>\n",
       "      <td>0.000</td>\n",
       "      <td>0.0000</td>\n",
       "      <td>Fissures in Hurriyat over Pak visit</td>\n",
       "    </tr>\n",
       "    <tr>\n",
       "      <th>2</th>\n",
       "      <td>0.322</td>\n",
       "      <td>0.678</td>\n",
       "      <td>0.000</td>\n",
       "      <td>-0.2263</td>\n",
       "      <td>America's unwanted heading for India?</td>\n",
       "    </tr>\n",
       "    <tr>\n",
       "      <th>3</th>\n",
       "      <td>0.000</td>\n",
       "      <td>1.000</td>\n",
       "      <td>0.000</td>\n",
       "      <td>0.0000</td>\n",
       "      <td>For bigwigs; it is destination Goa</td>\n",
       "    </tr>\n",
       "    <tr>\n",
       "      <th>4</th>\n",
       "      <td>0.000</td>\n",
       "      <td>0.658</td>\n",
       "      <td>0.342</td>\n",
       "      <td>0.3818</td>\n",
       "      <td>Extra buses to clear tourist traffic</td>\n",
       "    </tr>\n",
       "    <tr>\n",
       "      <th>...</th>\n",
       "      <td>...</td>\n",
       "      <td>...</td>\n",
       "      <td>...</td>\n",
       "      <td>...</td>\n",
       "      <td>...</td>\n",
       "    </tr>\n",
       "    <tr>\n",
       "      <th>1495</th>\n",
       "      <td>0.000</td>\n",
       "      <td>0.632</td>\n",
       "      <td>0.368</td>\n",
       "      <td>0.5423</td>\n",
       "      <td>Surya Kiran team shines in blazing glory</td>\n",
       "    </tr>\n",
       "    <tr>\n",
       "      <th>1496</th>\n",
       "      <td>0.000</td>\n",
       "      <td>1.000</td>\n",
       "      <td>0.000</td>\n",
       "      <td>0.0000</td>\n",
       "      <td>Tipnis takes a ride on Sukhoi</td>\n",
       "    </tr>\n",
       "    <tr>\n",
       "      <th>1497</th>\n",
       "      <td>0.000</td>\n",
       "      <td>0.737</td>\n",
       "      <td>0.263</td>\n",
       "      <td>0.3612</td>\n",
       "      <td>RAF ready to train Indian pilots on Hawk</td>\n",
       "    </tr>\n",
       "    <tr>\n",
       "      <th>1498</th>\n",
       "      <td>0.000</td>\n",
       "      <td>1.000</td>\n",
       "      <td>0.000</td>\n",
       "      <td>0.0000</td>\n",
       "      <td>This Air Marshal from England has an Indian link</td>\n",
       "    </tr>\n",
       "    <tr>\n",
       "      <th>1499</th>\n",
       "      <td>0.228</td>\n",
       "      <td>0.495</td>\n",
       "      <td>0.277</td>\n",
       "      <td>0.1280</td>\n",
       "      <td>AJT loss not to dent Dassault hopes</td>\n",
       "    </tr>\n",
       "  </tbody>\n",
       "</table>\n",
       "<p>1500 rows × 5 columns</p>\n",
       "</div>"
      ],
      "text/plain": [
       "        neg    neu    pos  compound  \\\n",
       "0     0.000  0.805  0.195    0.2924   \n",
       "1     0.000  1.000  0.000    0.0000   \n",
       "2     0.322  0.678  0.000   -0.2263   \n",
       "3     0.000  1.000  0.000    0.0000   \n",
       "4     0.000  0.658  0.342    0.3818   \n",
       "...     ...    ...    ...       ...   \n",
       "1495  0.000  0.632  0.368    0.5423   \n",
       "1496  0.000  1.000  0.000    0.0000   \n",
       "1497  0.000  0.737  0.263    0.3612   \n",
       "1498  0.000  1.000  0.000    0.0000   \n",
       "1499  0.228  0.495  0.277    0.1280   \n",
       "\n",
       "                                               headline  \n",
       "0     Status quo will not be disturbed at Ayodhya; s...  \n",
       "1                   Fissures in Hurriyat over Pak visit  \n",
       "2                 America's unwanted heading for India?  \n",
       "3                    For bigwigs; it is destination Goa  \n",
       "4                  Extra buses to clear tourist traffic  \n",
       "...                                                 ...  \n",
       "1495           Surya Kiran team shines in blazing glory  \n",
       "1496                      Tipnis takes a ride on Sukhoi  \n",
       "1497           RAF ready to train Indian pilots on Hawk  \n",
       "1498   This Air Marshal from England has an Indian link  \n",
       "1499                AJT loss not to dent Dassault hopes  \n",
       "\n",
       "[1500 rows x 5 columns]"
      ]
     },
     "execution_count": 20,
     "metadata": {},
     "output_type": "execute_result"
    }
   ],
   "source": [
    "sid=SentimentIntensityAnalyzer()\n",
    "result=[]\n",
    "for line in dt['headline_text']:\n",
    "    scores=sid.polarity_scores(line)\n",
    "    scores['headline']=line\n",
    "    result.append(scores)\n",
    "rev=pd.DataFrame(result)\n",
    "rev"
   ]
  },
  {
   "cell_type": "code",
   "execution_count": 21,
   "metadata": {
    "scrolled": true
   },
   "outputs": [
    {
     "data": {
      "text/html": [
       "<div>\n",
       "<style scoped>\n",
       "    .dataframe tbody tr th:only-of-type {\n",
       "        vertical-align: middle;\n",
       "    }\n",
       "\n",
       "    .dataframe tbody tr th {\n",
       "        vertical-align: top;\n",
       "    }\n",
       "\n",
       "    .dataframe thead th {\n",
       "        text-align: right;\n",
       "    }\n",
       "</style>\n",
       "<table border=\"1\" class=\"dataframe\">\n",
       "  <thead>\n",
       "    <tr style=\"text-align: right;\">\n",
       "      <th></th>\n",
       "      <th>neg</th>\n",
       "      <th>neu</th>\n",
       "      <th>pos</th>\n",
       "      <th>compound</th>\n",
       "      <th>headline</th>\n",
       "      <th>scores</th>\n",
       "    </tr>\n",
       "  </thead>\n",
       "  <tbody>\n",
       "    <tr>\n",
       "      <th>0</th>\n",
       "      <td>0.000</td>\n",
       "      <td>0.805</td>\n",
       "      <td>0.195</td>\n",
       "      <td>0.2924</td>\n",
       "      <td>Status quo will not be disturbed at Ayodhya; s...</td>\n",
       "      <td>1</td>\n",
       "    </tr>\n",
       "    <tr>\n",
       "      <th>1</th>\n",
       "      <td>0.000</td>\n",
       "      <td>1.000</td>\n",
       "      <td>0.000</td>\n",
       "      <td>0.0000</td>\n",
       "      <td>Fissures in Hurriyat over Pak visit</td>\n",
       "      <td>0</td>\n",
       "    </tr>\n",
       "    <tr>\n",
       "      <th>2</th>\n",
       "      <td>0.322</td>\n",
       "      <td>0.678</td>\n",
       "      <td>0.000</td>\n",
       "      <td>-0.2263</td>\n",
       "      <td>America's unwanted heading for India?</td>\n",
       "      <td>-1</td>\n",
       "    </tr>\n",
       "    <tr>\n",
       "      <th>3</th>\n",
       "      <td>0.000</td>\n",
       "      <td>1.000</td>\n",
       "      <td>0.000</td>\n",
       "      <td>0.0000</td>\n",
       "      <td>For bigwigs; it is destination Goa</td>\n",
       "      <td>0</td>\n",
       "    </tr>\n",
       "    <tr>\n",
       "      <th>4</th>\n",
       "      <td>0.000</td>\n",
       "      <td>0.658</td>\n",
       "      <td>0.342</td>\n",
       "      <td>0.3818</td>\n",
       "      <td>Extra buses to clear tourist traffic</td>\n",
       "      <td>1</td>\n",
       "    </tr>\n",
       "    <tr>\n",
       "      <th>...</th>\n",
       "      <td>...</td>\n",
       "      <td>...</td>\n",
       "      <td>...</td>\n",
       "      <td>...</td>\n",
       "      <td>...</td>\n",
       "      <td>...</td>\n",
       "    </tr>\n",
       "    <tr>\n",
       "      <th>1495</th>\n",
       "      <td>0.000</td>\n",
       "      <td>0.632</td>\n",
       "      <td>0.368</td>\n",
       "      <td>0.5423</td>\n",
       "      <td>Surya Kiran team shines in blazing glory</td>\n",
       "      <td>1</td>\n",
       "    </tr>\n",
       "    <tr>\n",
       "      <th>1496</th>\n",
       "      <td>0.000</td>\n",
       "      <td>1.000</td>\n",
       "      <td>0.000</td>\n",
       "      <td>0.0000</td>\n",
       "      <td>Tipnis takes a ride on Sukhoi</td>\n",
       "      <td>0</td>\n",
       "    </tr>\n",
       "    <tr>\n",
       "      <th>1497</th>\n",
       "      <td>0.000</td>\n",
       "      <td>0.737</td>\n",
       "      <td>0.263</td>\n",
       "      <td>0.3612</td>\n",
       "      <td>RAF ready to train Indian pilots on Hawk</td>\n",
       "      <td>1</td>\n",
       "    </tr>\n",
       "    <tr>\n",
       "      <th>1498</th>\n",
       "      <td>0.000</td>\n",
       "      <td>1.000</td>\n",
       "      <td>0.000</td>\n",
       "      <td>0.0000</td>\n",
       "      <td>This Air Marshal from England has an Indian link</td>\n",
       "      <td>0</td>\n",
       "    </tr>\n",
       "    <tr>\n",
       "      <th>1499</th>\n",
       "      <td>0.228</td>\n",
       "      <td>0.495</td>\n",
       "      <td>0.277</td>\n",
       "      <td>0.1280</td>\n",
       "      <td>AJT loss not to dent Dassault hopes</td>\n",
       "      <td>1</td>\n",
       "    </tr>\n",
       "  </tbody>\n",
       "</table>\n",
       "<p>1500 rows × 6 columns</p>\n",
       "</div>"
      ],
      "text/plain": [
       "        neg    neu    pos  compound  \\\n",
       "0     0.000  0.805  0.195    0.2924   \n",
       "1     0.000  1.000  0.000    0.0000   \n",
       "2     0.322  0.678  0.000   -0.2263   \n",
       "3     0.000  1.000  0.000    0.0000   \n",
       "4     0.000  0.658  0.342    0.3818   \n",
       "...     ...    ...    ...       ...   \n",
       "1495  0.000  0.632  0.368    0.5423   \n",
       "1496  0.000  1.000  0.000    0.0000   \n",
       "1497  0.000  0.737  0.263    0.3612   \n",
       "1498  0.000  1.000  0.000    0.0000   \n",
       "1499  0.228  0.495  0.277    0.1280   \n",
       "\n",
       "                                               headline  scores  \n",
       "0     Status quo will not be disturbed at Ayodhya; s...       1  \n",
       "1                   Fissures in Hurriyat over Pak visit       0  \n",
       "2                 America's unwanted heading for India?      -1  \n",
       "3                    For bigwigs; it is destination Goa       0  \n",
       "4                  Extra buses to clear tourist traffic       1  \n",
       "...                                                 ...     ...  \n",
       "1495           Surya Kiran team shines in blazing glory       1  \n",
       "1496                      Tipnis takes a ride on Sukhoi       0  \n",
       "1497           RAF ready to train Indian pilots on Hawk       1  \n",
       "1498   This Air Marshal from England has an Indian link       0  \n",
       "1499                AJT loss not to dent Dassault hopes       1  \n",
       "\n",
       "[1500 rows x 6 columns]"
      ]
     },
     "execution_count": 21,
     "metadata": {},
     "output_type": "execute_result"
    }
   ],
   "source": [
    "ratings=[]\n",
    "for row in rev['compound']:\n",
    "  if row >= 0.05 :\n",
    "      ratings.append(1)\n",
    "  elif row <= - 0.05 :\n",
    "    ratings.append(-1)\n",
    "  else :\n",
    "    ratings.append(0)\n",
    "\n",
    "rev['scores']=ratings\n",
    "rev"
   ]
  },
  {
   "cell_type": "code",
   "execution_count": 22,
   "metadata": {},
   "outputs": [
    {
     "data": {
      "text/plain": [
       " 0    822\n",
       " 1    358\n",
       "-1    320\n",
       "Name: scores, dtype: int64"
      ]
     },
     "execution_count": 22,
     "metadata": {},
     "output_type": "execute_result"
    }
   ],
   "source": [
    "rev['scores'].value_counts()"
   ]
  },
  {
   "cell_type": "code",
   "execution_count": 23,
   "metadata": {},
   "outputs": [
    {
     "data": {
      "text/plain": [
       "[Text(0, 0, 'Negative'), Text(0, 0, 'Neutral'), Text(0, 0, 'Positive')]"
      ]
     },
     "execution_count": 23,
     "metadata": {},
     "output_type": "execute_result"
    },
    {
     "data": {
      "image/png": "[encoded data removed]",
      "text/plain": [
       "<Figure size 432x288 with 1 Axes>"
      ]
     },
     "metadata": {
      "needs_background": "light"
     },
     "output_type": "display_data"
    }
   ],
   "source": [
    "f = sns.countplot(x='scores', data=rev)\n",
    "f.set_title(\"Sentiment distribution\")\n",
    "f.set_xticklabels(['Negative', 'Neutral','Positive'])"
   ]
  },
  {
   "cell_type": "code",
   "execution_count": null,
   "metadata": {},
   "outputs": [],
   "source": []
  }
 ],
 "metadata": {
  "kernelspec": {
   "display_name": "Python 3",
   "language": "python",
   "name": "python3"
  },
  "language_info": {
   "codemirror_mode": {
    "name": "ipython",
    "version": 3
   },
   "file_extension": ".py",
   "mimetype": "text/x-python",
   "name": "python",
   "nbconvert_exporter": "python",
   "pygments_lexer": "ipython3",
   "version": "3.7.0"
  }
 },
 "nbformat": 4,
 "nbformat_minor": 4
}
